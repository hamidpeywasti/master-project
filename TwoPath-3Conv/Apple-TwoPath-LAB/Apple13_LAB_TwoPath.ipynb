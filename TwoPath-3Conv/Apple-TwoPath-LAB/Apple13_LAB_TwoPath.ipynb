{
 "cells": [
  {
   "cell_type": "code",
   "execution_count": 1,
   "id": "a6edc1a4-18f9-4df5-b2ea-496cda2f134e",
   "metadata": {},
   "outputs": [],
   "source": [
    "monitor='val_accuracy'\n",
    "epochs=90\n",
    "batch_size=32\n",
    "input_shape=(224, 224, 3) # please resize it to (224,224,3) if you have enough RAM\n",
    "Verbose=True"
   ]
  },
  {
   "cell_type": "code",
   "execution_count": 2,
   "id": "40ce3449-f847-444c-81e1-ef2a59fd79be",
   "metadata": {},
   "outputs": [
    {
     "name": "stdout",
     "output_type": "stream",
     "text": [
      "Python version: 3.9.18 (main, Sep  7 2023, 00:00:00) \n",
      "[GCC 11.4.1 20230605 (Red Hat 11.4.1-2)]\n",
      "skimage: 0.22.0\n",
      "Tensorflow: 2.15.0\n"
     ]
    }
   ],
   "source": [
    "import sys\n",
    "print(\"Python version:\", sys.version)\n",
    "\n",
    "import skimage\n",
    "print('skimage:',  skimage.__version__)\n",
    "\n",
    "import tensorflow as tf\n",
    "print('Tensorflow:',tf.__version__)\n",
    "\n",
    "import cai\n",
    "import cai.datasets\n",
    "import cai.models\n",
    "\n",
    "import multiprocessing\n",
    "import os\n",
    "\n",
    "from sklearn.metrics import confusion_matrix\n",
    "import numpy as np\n",
    "import seaborn as sns\n",
    "\n",
    "import matplotlib.pyplot as plt\n",
    "%matplotlib inline"
   ]
  },
  {
   "cell_type": "code",
   "execution_count": 3,
   "id": "92668cb4-fc93-4537-8382-69157b97afdf",
   "metadata": {},
   "outputs": [
    {
     "name": "stdout",
     "output_type": "stream",
     "text": [
      "Classes Lables: ['Alternaria Leaf Spot', 'Apple rot', 'Apple Scab', 'Block rot', 'Brown Spot', 'Cedar apple rust', 'Frogeye Leaf Spot', 'Grey Spot', 'Healthy', 'Leaf Blotch', 'Mosaic', 'Powdery Mildew', 'Rust']\n",
      "Number of Classes: 13\n"
     ]
    }
   ],
   "source": [
    "data_dir = \"/home/hamid/Project/DataSets/Apple-Leaf-diseases-13classes\"\n",
    "\n",
    "label_of_classes = os.listdir(data_dir)\n",
    "print(\"Classes Lables:\", label_of_classes)\n",
    "\n",
    "number_of_classes = len(label_of_classes)\n",
    "print(\"Number of Classes:\", number_of_classes)"
   ]
  },
  {
   "cell_type": "code",
   "execution_count": 4,
   "id": "fdf2411c-4a99-4fa5-bb42-f4369d1a5659",
   "metadata": {},
   "outputs": [
    {
     "name": "stdout",
     "output_type": "stream",
     "text": [
      "Loading  13  classes.\n",
      "smart resize is enabled.\n",
      "loading train images\n",
      "train shape is: (3516, 224, 224, 3)\n",
      "loading validation images\n",
      "validation shape is: (1171, 224, 224, 3)\n",
      "loading test images\n",
      "test shape is: (1180, 224, 224, 3)\n",
      "Channel  0  min: 0.0  max: 1.0\n",
      "Channel  1  min: 0.0  max: 0.8897463\n",
      "Channel  2  min: 0.0  max: 0.96785784\n",
      "Loaded.\n"
     ]
    }
   ],
   "source": [
    "train_x, val_x, test_x, train_y, val_y, test_y, classweight, classes = cai.datasets.load_images_from_folders(\n",
    "    seed=7,\n",
    "    root_dir=data_dir,\n",
    "    lab=True,\n",
    "    verbose=Verbose,\n",
    "    bipolar=False,\n",
    "    base_model_name='apple13_leaf',\n",
    "    training_size=0.6,\n",
    "    validation_size=0.2,\n",
    "    test_size=0.2,\n",
    "    target_size=(input_shape[0],input_shape[1]),\n",
    "    has_training=True,\n",
    "    has_validation=True,\n",
    "    has_testing=True,\n",
    "    smart_resize=True\n",
    ")"
   ]
  },
  {
   "cell_type": "code",
   "execution_count": 5,
   "id": "e165e5a8-25c4-4e56-96d6-596ca89db807",
   "metadata": {},
   "outputs": [
    {
     "name": "stdout",
     "output_type": "stream",
     "text": [
      "(3516, 224, 224, 3) (1171, 224, 224, 3) (1180, 224, 224, 3)\n",
      "(3516, 13) (1171, 13) (1180, 13)\n"
     ]
    }
   ],
   "source": [
    "print(train_x.shape,val_x.shape,test_x.shape)\n",
    "print(train_y.shape,val_y.shape,test_y.shape)"
   ]
  },
  {
   "cell_type": "code",
   "execution_count": null,
   "id": "fafd5522-7590-487c-85f3-5d65716c75e6",
   "metadata": {},
   "outputs": [],
   "source": []
  },
  {
   "cell_type": "code",
   "execution_count": 6,
   "id": "65f86aaf-5ec8-45d6-b675-417b6a877600",
   "metadata": {
    "id": "d-q_V3dJ3BhT"
   },
   "outputs": [
    {
     "name": "stdout",
     "output_type": "stream",
     "text": [
      "Running: Apple13-twoPath-inception-False-0.1\n"
     ]
    },
    {
     "name": "stderr",
     "output_type": "stream",
     "text": [
      "2024-01-13 11:39:46.693671: W external/local_tsl/tsl/framework/cpu_allocator_impl.cc:83] Allocation of 2117025792 exceeds 10% of free system memory.\n"
     ]
    },
    {
     "name": "stdout",
     "output_type": "stream",
     "text": [
      "110/110 [==============================] - ETA: 0s - loss: 0.9235 - accuracy: 0.6729"
     ]
    },
    {
     "name": "stderr",
     "output_type": "stream",
     "text": [
      "2024-01-13 11:47:26.900470: W external/local_tsl/tsl/framework/cpu_allocator_impl.cc:83] Allocation of 705073152 exceeds 10% of free system memory.\n"
     ]
    },
    {
     "name": "stdout",
     "output_type": "stream",
     "text": [
      "\n",
      "Epoch 1: val_accuracy improved from -inf to 0.09052, saving model to Apple13-twoPath-inception-False-0.1-best_result.keras\n",
      "110/110 [==============================] - 494s 4s/step - loss: 0.9235 - accuracy: 0.6729 - val_loss: 3.8256 - val_accuracy: 0.0905\n",
      "Testing Last Model: Apple13-twoPath-inception-False-0.1\n"
     ]
    },
    {
     "name": "stderr",
     "output_type": "stream",
     "text": [
      "2024-01-13 11:48:03.004365: W external/local_tsl/tsl/framework/cpu_allocator_impl.cc:83] Allocation of 710492160 exceeds 10% of free system memory.\n"
     ]
    },
    {
     "name": "stdout",
     "output_type": "stream",
     "text": [
      "37/37 [==============================] - 34s 928ms/step - loss: 3.8466 - accuracy: 0.0788\n",
      "loss 3.8466272354125977\n",
      "acc 0.07881356030702591\n",
      "Best Model Results: Apple13-twoPath-inception-False-0.1\n"
     ]
    },
    {
     "name": "stderr",
     "output_type": "stream",
     "text": [
      "2024-01-13 11:48:47.362586: W external/local_tsl/tsl/framework/cpu_allocator_impl.cc:83] Allocation of 710492160 exceeds 10% of free system memory.\n"
     ]
    },
    {
     "name": "stdout",
     "output_type": "stream",
     "text": [
      "37/37 [==============================] - 33s 877ms/step - loss: 3.8466 - accuracy: 0.0788\n",
      "loss 3.8466272354125977\n",
      "acc 0.07881356030702591\n",
      "Finished: Apple13-twoPath-inception-False-0.1\n",
      "Running: Apple13-twoPath-inception-True-0.1\n"
     ]
    },
    {
     "name": "stderr",
     "output_type": "stream",
     "text": [
      "2024-01-13 11:49:34.414606: W external/local_tsl/tsl/framework/cpu_allocator_impl.cc:83] Allocation of 2117025792 exceeds 10% of free system memory.\n"
     ]
    },
    {
     "name": "stdout",
     "output_type": "stream",
     "text": [
      "110/110 [==============================] - ETA: 0s - loss: 0.9933 - accuracy: 0.6470\n",
      "Epoch 1: val_accuracy improved from -inf to 0.10675, saving model to Apple13-twoPath-inception-True-0.1-best_result.keras\n",
      "110/110 [==============================] - 505s 5s/step - loss: 0.9933 - accuracy: 0.6470 - val_loss: 4.3361 - val_accuracy: 0.1067\n",
      "Testing Last Model: Apple13-twoPath-inception-True-0.1\n",
      "37/37 [==============================] - 33s 868ms/step - loss: 4.3302 - accuracy: 0.1085\n",
      "loss 4.330193519592285\n",
      "acc 0.10847457498311996\n",
      "Best Model Results: Apple13-twoPath-inception-True-0.1\n",
      "37/37 [==============================] - 35s 918ms/step - loss: 4.3302 - accuracy: 0.1085\n",
      "loss 4.330193519592285\n",
      "acc 0.10847457498311996\n",
      "Finished: Apple13-twoPath-inception-True-0.1\n"
     ]
    }
   ],
   "source": [
    "all_history = []\n",
    "epochs=1\n",
    "for two_paths_second_block in [False, True]:\n",
    "    for l_ratio in [0.1]:  # [0.1,0.3,0.5,0.7,0.9]:\n",
    "        \n",
    "        basefilename = 'Apple13-twoPath-inception-' + str(two_paths_second_block) + '-' + str(l_ratio)\n",
    "        print('Running: '+basefilename)\n",
    "          \n",
    "        model = cai.models.compiled_two_path_inception_v3(\n",
    "            input_shape=input_shape, \n",
    "            classes=number_of_classes,\n",
    "            two_paths_partial_first_block=5,\n",
    "            two_paths_first_block=True,\n",
    "            two_paths_second_block=two_paths_second_block,\n",
    "            l_ratio=l_ratio,\n",
    "            ab_ratio=(1-l_ratio),\n",
    "            max_mix_idx=3, \n",
    "            model_name='two_path_inception_v3'\n",
    "        )\n",
    "          \n",
    "        best_result_file_name = basefilename+'-best_result.keras'\n",
    "          \n",
    "        save_best = tf.keras.callbacks.ModelCheckpoint(\n",
    "            filepath=best_result_file_name, \n",
    "            monitor=monitor, \n",
    "            verbose=1,\n",
    "            save_best_only=True,\n",
    "            save_weights_only=False, \n",
    "            mode='max',\n",
    "            save_freq='epoch'\n",
    "        )\n",
    "          \n",
    "        history = model.fit(\n",
    "            train_x,\n",
    "            train_y, \n",
    "            epochs=epochs, \n",
    "            batch_size=batch_size,\n",
    "            validation_data=(val_x,val_y),\n",
    "            callbacks=[save_best],\n",
    "            class_weight=classweight,\n",
    "            workers=multiprocessing.cpu_count()\n",
    "        )\n",
    "\n",
    "        all_history.append(history)\n",
    "          \n",
    "        print('Testing Last Model: '+basefilename)\n",
    "          \n",
    "        evaluated = model.evaluate(test_x,test_y)\n",
    "          \n",
    "        for metric, name in zip(evaluated,[\"loss\",\"acc\",\"top 5 acc\"]):\n",
    "            print(name,metric)\n",
    "            \n",
    "        print('Best Model Results: '+basefilename)\n",
    "          \n",
    "        model = tf.keras.models.load_model(\n",
    "            best_result_file_name,\n",
    "            custom_objects={'CopyChannels': cai.layers.CopyChannels}\n",
    "        )\n",
    "          \n",
    "        evaluated = model.evaluate(test_x,test_y)\n",
    "          \n",
    "        cai.models.save_model(model, basefilename)\n",
    "          \n",
    "        for metric, name in zip(evaluated,[\"loss\",\"acc\",\"top 5 acc\"]):\n",
    "          print(name,metric)\n",
    "        \n",
    "        print('Finished: '+basefilename)"
   ]
  },
  {
   "cell_type": "code",
   "execution_count": 7,
   "id": "e52c7ff6-f964-425e-8664-dba6d6a7bcff",
   "metadata": {
    "editable": true,
    "slideshow": {
     "slide_type": ""
    },
    "tags": []
   },
   "outputs": [
    {
     "name": "stdout",
     "output_type": "stream",
     "text": [
      "[<keras.src.callbacks.History object at 0x7f09e0572760>, <keras.src.callbacks.History object at 0x7f09dbe54700>]\n"
     ]
    }
   ],
   "source": [
    "print(all_history)"
   ]
  },
  {
   "cell_type": "code",
   "execution_count": 8,
   "id": "6d66eff8-6e11-486a-9f90-7e45059e05b6",
   "metadata": {},
   "outputs": [],
   "source": [
    "def plot_history(history):\n",
    "    \n",
    "    plt.figure(figsize=(10, 5))\n",
    "\n",
    "    # Plot training & validation loss values\n",
    "    plt.subplot(1, 2, 1)\n",
    "    plt.plot(history.history['loss'])\n",
    "    plt.plot(history.history['val_loss'])\n",
    "    plt.title('Model Loss')\n",
    "    plt.xlabel('Epoch')\n",
    "    plt.ylabel('Loss')\n",
    "    plt.legend(['Train', 'Validation'], loc='upper right')\n",
    "    plt.ylim(top=5, bottom=0)\n",
    "\n",
    "    # Plot training & validation accuracy values\n",
    "    plt.subplot(1, 2, 2)\n",
    "    plt.plot(history.history['accuracy'])\n",
    "    plt.plot(history.history['val_accuracy'])\n",
    "    plt.title('Model Accuracy')\n",
    "    plt.xlabel('Epoch')\n",
    "    plt.ylabel('Accuracy')\n",
    "    plt.legend(['Train', 'Validation'], loc='lower right')\n",
    "    \n",
    "    plt.savefig('tomatom-leaf-mix-10-loss-acc.png')\n",
    "\n",
    "    plt.tight_layout()\n",
    "    plt.show()"
   ]
  },
  {
   "cell_type": "code",
   "execution_count": 9,
   "id": "4a7eba7c-51f5-481f-ade1-b952892af95b",
   "metadata": {},
   "outputs": [
    {
     "data": {
      "image/png": "[encoded data removed]",
      "text/plain": [
       "<Figure size 1000x500 with 2 Axes>"
      ]
     },
     "metadata": {},
     "output_type": "display_data"
    },
    {
     "data": {
      "image/png": "[encoded data removed]",
      "text/plain": [
       "<Figure size 1000x500 with 2 Axes>"
      ]
     },
     "metadata": {},
     "output_type": "display_data"
    },
    {
     "ename": "IndexError",
     "evalue": "list index out of range",
     "output_type": "error",
     "traceback": [
      "\u001b[0;31m---------------------------------------------------------------------------\u001b[0m",
      "\u001b[0;31mIndexError\u001b[0m                                Traceback (most recent call last)",
      "Cell \u001b[0;32mIn [9], line 2\u001b[0m\n\u001b[1;32m      1\u001b[0m \u001b[38;5;28;01mfor\u001b[39;00m i \u001b[38;5;129;01min\u001b[39;00m [\u001b[38;5;241m0\u001b[39m,\u001b[38;5;241m1\u001b[39m,\u001b[38;5;241m2\u001b[39m]:\n\u001b[0;32m----> 2\u001b[0m     plot_history(\u001b[43mall_history\u001b[49m\u001b[43m[\u001b[49m\u001b[43mi\u001b[49m\u001b[43m]\u001b[49m)\n",
      "\u001b[0;31mIndexError\u001b[0m: list index out of range"
     ]
    }
   ],
   "source": [
    "for i in [0,1,2]:\n",
    "    plot_history(all_history[i])"
   ]
  },
  {
   "cell_type": "code",
   "execution_count": null,
   "id": "1a390c4b-88c6-4332-8e06-c1dd14b0da78",
   "metadata": {},
   "outputs": [],
   "source": [
    "model = tf.keras.models.load_model(\n",
    "            'Apple13-twoPath-inception-0.2-best_result.keras',\n",
    "            custom_objects={'CopyChannels': cai.layers.CopyChannels}\n",
    "        )\n",
    "evaluated = model.evaluate(test_x,test_y)       \n",
    "          \n",
    "for metric, name in zip(evaluated,[\"loss\",\"acc\",\"top 5 acc\"]):\n",
    "    print(name,metric)\n",
    "            \n",
    "# Make predictions\n",
    "y_pred_prob = model.predict(test_x)\n",
    "y_pred = np.argmax(y_pred_prob, axis=1)\n",
    "\n",
    "# Create the confusion matrix\n",
    "cm = confusion_matrix(np.argmax(test_y, axis=1), y_pred)"
   ]
  },
  {
   "cell_type": "code",
   "execution_count": null,
   "id": "73f203de-5366-44f9-85a4-ed5fcf634426",
   "metadata": {},
   "outputs": [],
   "source": [
    "# Visualize the confusion matrix using seaborn\n",
    "plt.figure(figsize=(8, 6))\n",
    "sns.heatmap(cm, annot=False, fmt='d', cmap='Blues', cbar=False,\n",
    "            xticklabels=classes_labels, yticklabels=classes_labels)\n",
    "plt.title('Confusion Matrix')\n",
    "plt.xlabel('Predicted')\n",
    "plt.ylabel('True')\n",
    "plt.show()"
   ]
  },
  {
   "cell_type": "code",
   "execution_count": null,
   "id": "6eba5f69-d635-4c40-91fc-1dc26f1b4fce",
   "metadata": {},
   "outputs": [],
   "source": [
    "model = tf.keras.models.load_model(\n",
    "            'Apple13-twoPath-inception-0.5-best_result.keras',\n",
    "            custom_objects={'CopyChannels': cai.layers.CopyChannels}\n",
    "        )\n",
    "evaluated = model.evaluate(test_x,test_y)       \n",
    "          \n",
    "for metric, name in zip(evaluated,[\"loss\",\"acc\",\"top 5 acc\"]):\n",
    "    print(name,metric)\n",
    "            \n",
    "# Make predictions\n",
    "y_pred_prob = model.predict(test_x)\n",
    "y_pred = np.argmax(y_pred_prob, axis=1)\n",
    "\n",
    "# Create the confusion matrix\n",
    "cm = confusion_matrix(np.argmax(test_y, axis=1), y_pred) "
   ]
  },
  {
   "cell_type": "code",
   "execution_count": null,
   "id": "64f0d489-e64d-4738-bf79-5a05376d060d",
   "metadata": {},
   "outputs": [],
   "source": [
    "# Visualize the confusion matrix using seaborn\n",
    "plt.figure(figsize=(8, 6))\n",
    "sns.heatmap(cm, annot=False, fmt='d', cmap='Blues', cbar=False,\n",
    "            xticklabels=classes_labels, yticklabels=classes_labels)\n",
    "plt.title('Confusion Matrix')\n",
    "plt.xlabel('Predicted')\n",
    "plt.ylabel('True')\n",
    "plt.show()"
   ]
  },
  {
   "cell_type": "code",
   "execution_count": null,
   "id": "930794cb-80b3-447e-9fee-056ebfe27b51",
   "metadata": {},
   "outputs": [],
   "source": [
    "model = tf.keras.models.load_model(\n",
    "            'Apple13-twoPath-inception-0.8-best_result.keras',\n",
    "            custom_objects={'CopyChannels': cai.layers.CopyChannels}\n",
    "        )\n",
    "evaluated = model.evaluate(test_x,test_y)       \n",
    "          \n",
    "for metric, name in zip(evaluated,[\"loss\",\"acc\",\"top 5 acc\"]):\n",
    "    print(name,metric)\n",
    "            \n",
    "# Make predictions\n",
    "y_pred_prob = model.predict(test_x)\n",
    "y_pred = np.argmax(y_pred_prob, axis=1)\n",
    "\n",
    "# Create the confusion matrix\n",
    "cm = confusion_matrix(np.argmax(test_y, axis=1), y_pred) "
   ]
  },
  {
   "cell_type": "code",
   "execution_count": null,
   "id": "8196ef50-d121-4bb4-a6ce-4885b2eaee9b",
   "metadata": {},
   "outputs": [],
   "source": [
    "# Visualize the confusion matrix using seaborn\n",
    "plt.figure(figsize=(8, 6))\n",
    "sns.heatmap(cm, annot=False, fmt='d', cmap='Blues', cbar=False,\n",
    "            xticklabels=classes_labels, yticklabels=classes_labels)\n",
    "plt.title('Confusion Matrix')\n",
    "plt.xlabel('Predicted')\n",
    "plt.ylabel('True')\n",
    "plt.show()"
   ]
  },
  {
   "cell_type": "code",
   "execution_count": null,
   "id": "43a025f0-43d3-4f11-8cf6-fdc6c1fe021d",
   "metadata": {},
   "outputs": [],
   "source": []
  }
 ],
 "metadata": {
  "kernelspec": {
   "display_name": "Python 3 (ipykernel)",
   "language": "python",
   "name": "python3"
  },
  "language_info": {
   "codemirror_mode": {
    "name": "ipython",
    "version": 3
   },
   "file_extension": ".py",
   "mimetype": "text/x-python",
   "name": "python",
   "nbconvert_exporter": "python",
   "pygments_lexer": "ipython3",
   "version": "3.9.18"
  }
 },
 "nbformat": 4,
 "nbformat_minor": 5
}
